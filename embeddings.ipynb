{
 "cells": [
  {
   "cell_type": "markdown",
   "id": "3d822369-7563-4983-93c7-8d0b64028c8a",
   "metadata": {},
   "source": [
    "<h1 style = \"font-family: monospace\">Embedding the arXiv</h1>\n",
    "<p style = \"text-align:justify\">This notebook contains code neccessary to import arXiv metadata to database that will be later searched by engine. To do this, titles and abstracts of research publications in arXiv database are first converted to vector representations, and these representations or <b></b>embeddings</b> are loaded into database. I will be using two databases: Redis in-memory storage and postgres, both of them have support for indexing vectors. To enable support for vector, pgvector extension has to be installed for postgres. I'm also using redis-stack-server version of Redis that includes all neccessary extensions.</p>"
   ]
  },
  {
   "cell_type": "code",
   "execution_count": 2,
   "id": "f3ed3524-f75d-48fe-8a08-0fd04e2e5d02",
   "metadata": {},
   "outputs": [],
   "source": [
    "using DataFrames\n",
    "using JSON3\n",
    "using LibPQ\n",
    "using Tables\n",
    "using Embeddings\n",
    "using WordTokenizers\n",
    "using CSV\n",
    "using Statistics\n",
    "using Jedis\n",
    "using Printf\n",
    "using Random\n",
    "using PyCall"
   ]
  },
  {
   "cell_type": "markdown",
   "id": "7470e9da-2c86-429b-ab10-941fe55f4627",
   "metadata": {},
   "source": [
    "<h3>import pretrained word2vec into Redis</h3>\n",
    "<p style = \"text-align:justify\">The engine will work by calculating vector representation of user query by averaging vectors of all words used in the query. To do this quickly, the program will keep all individual word vectors in Redis memory storage:</p>"
   ]
  },
  {
   "cell_type": "code",
   "execution_count": 2,
   "id": "c7a10479-5e7e-4f35-ae6b-e5311f6a4bc1",
   "metadata": {},
   "outputs": [],
   "source": [
    "# load pretrained word2vec embeddings\n",
    "emtable = load_embeddings(Word2Vec, \"../GoogleNews-vectors-negative300.bin\")\n",
    "\n",
    "# create hash tables to access embedding vector for every word and its lowercase variant\n",
    "emindex = Dict(word => i for (i, word) in enumerate(emtable.vocab))\n",
    "emlower = Dict()\n",
    "for (word, i) in emindex\n",
    "    lw = lowercase(word)\n",
    "    if lw ∉ keys(emindex)\n",
    "        emlower[lw] = i\n",
    "    end\n",
    "end"
   ]
  },
  {
   "cell_type": "code",
   "execution_count": null,
   "id": "068364cf-f15e-412f-ac4f-19988eb07c1b",
   "metadata": {},
   "outputs": [],
   "source": [
    "# create file with commands to Redis server to store word - vector pairs\n",
    "wordvec = \"../word2vec.redis\"\n",
    "\n",
    "if !isfile(wordvec)\n",
    "    open(wordvec, \"w\") do output\n",
    "        for ei in [emindex, emlower]\n",
    "            for (word, i) in ei\n",
    "                vector = emtable.embeddings[:, i]\n",
    "                write(output, \"HSET vectors:word2vec \\\"\" * word * \"\\\" \\\"\" * \"[\" * join(string.(vector),\", \") * \"]\" * \"\\\"\\n\")\n",
    "            end\n",
    "        end\n",
    "    end\n",
    "end\n",
    "\n",
    "# import file to Redis\n",
    "Base.run(pipeline(`cat $wordvec`, `redis-cli`, devnull))\n",
    "\n",
    "# save Redis database to persistent storage\n",
    "Jedis.execute([\"save\"])\n",
    "\n",
    "# check the result\n",
    "@printf \"imported %i word vectors\" Jedis.execute([\"hlen\", \"vectors:word2vec\"])"
   ]
  },
  {
   "cell_type": "markdown",
   "id": "fc74f30b-58a2-4001-a146-9fd41b266419",
   "metadata": {},
   "source": [
    "<h3>import arXiv embeddings to Postgres</h3>\n",
    "<p style = \"text-align:justify\">The search algorithm will work by calculating cosine distance of query vector to document vectors. In the next step I will load the data to Postgresql database, and create a vector index for similarity search:</p>"
   ]
  },
  {
   "cell_type": "code",
   "execution_count": 3,
   "id": "fabaeab1-d221-4df8-b308-bed16fbc38f2",
   "metadata": {
    "scrolled": true
   },
   "outputs": [
    {
     "data": {
      "text/html": [
       "<div><div style = \"float: left;\"><span>2459557×6 DataFrame</span></div><div style = \"float: right;\"><span style = \"font-style: italic;\">2459532 rows omitted</span></div><div style = \"clear: both;\"></div></div><div class = \"data-frame\" style = \"overflow-x: scroll;\"><table class = \"data-frame\" style = \"margin-bottom: 6px;\"><thead><tr class = \"header\"><th class = \"rowNumber\" style = \"font-weight: bold; text-align: right;\">Row</th><th style = \"text-align: left;\">id</th><th style = \"text-align: left;\">title</th><th style = \"text-align: left;\">abstract</th><th style = \"text-align: left;\">authors</th><th style = \"text-align: left;\">doi</th><th style = \"text-align: left;\">year</th></tr><tr class = \"subheader headerLastRow\"><th class = \"rowNumber\" style = \"font-weight: bold; text-align: right;\"></th><th title = \"String\" style = \"text-align: left;\">String</th><th title = \"String\" style = \"text-align: left;\">String</th><th title = \"String\" style = \"text-align: left;\">String</th><th title = \"String\" style = \"text-align: left;\">String</th><th title = \"Union{Nothing, String}\" style = \"text-align: left;\">Union…</th><th title = \"Int16\" style = \"text-align: left;\">Int16</th></tr></thead><tbody><tr><td class = \"rowNumber\" style = \"font-weight: bold; text-align: right;\">1</td><td style = \"text-align: left;\">0704.0001</td><td style = \"text-align: left;\">Calculation of prompt diphoton production cross sections at Tevatron and\\n  LHC energies</td><td style = \"text-align: left;\">  A fully differential calculation in perturbative quantum chromodynamics is\\npresented for the production of massive photon pairs at hadron colliders. All\\nnext-to-leading order perturbative contributions from quark-antiquark,\\ngluon-(anti)quark, and gluon-gluon subprocesses are included, as well as\\nall-orders resummation of initial-state gluon radiation valid at\\nnext-to-next-to-leading logarithmic accuracy. The region of phase space is\\nspecified in which the calculation is most reliable. Good agreement is\\ndemonstrated with data from the Fermilab Tevatron, and predictions are made for\\nmore detailed tests with CDF and DO data. Predictions are shown for\\ndistributions of diphoton pairs produced at the energy of the Large Hadron\\nCollider (LHC). Distributions of the diphoton pairs from the decay of a Higgs\\nboson are contrasted with those produced from QCD processes at the LHC, showing\\nthat enhanced sensitivity to the signal can be obtained with judicious\\nselection of events.\\n</td><td style = \"text-align: left;\">C. Bal\\\\&apos;azs, E. L. Berger, P. M. Nadolsky, C.-P. Yuan</td><td style = \"text-align: left;\">10.1103/PhysRevD.76.013009</td><td style = \"text-align: right;\">2007</td></tr><tr><td class = \"rowNumber\" style = \"font-weight: bold; text-align: right;\">2</td><td style = \"text-align: left;\">0704.0002</td><td style = \"text-align: left;\">Sparsity-certifying Graph Decompositions</td><td style = \"text-align: left;\">  We describe a new algorithm, the $(k,\\\\ell)$-pebble game with colors, and use\\nit obtain a characterization of the family of $(k,\\\\ell)$-sparse graphs and\\nalgorithmic solutions to a family of problems concerning tree decompositions of\\ngraphs. Special instances of sparse graphs appear in rigidity theory and have\\nreceived increased attention in recent years. In particular, our colored\\npebbles generalize and strengthen the previous results of Lee and Streinu and\\ngive a new proof of the Tutte-Nash-Williams characterization of arboricity. We\\nalso present a new decomposition that certifies sparsity based on the\\n$(k,\\\\ell)$-pebble game with colors. Our work also exposes connections between\\npebble game algorithms and previous sparse graph algorithms by Gabow, Gabow and\\nWestermann and Hendrickson.\\n</td><td style = \"text-align: left;\">Ileana Streinu and Louis Theran</td><td style = \"font-style: italic; text-align: left;\"></td><td style = \"text-align: right;\">2007</td></tr><tr><td class = \"rowNumber\" style = \"font-weight: bold; text-align: right;\">3</td><td style = \"text-align: left;\">0704.0003</td><td style = \"text-align: left;\">The evolution of the Earth-Moon system based on the dark matter field\\n  fluid model</td><td style = \"text-align: left;\">  The evolution of Earth-Moon system is described by the dark matter field\\nfluid model proposed in the Meeting of Division of Particle and Field 2004,\\nAmerican Physical Society. The current behavior of the Earth-Moon system agrees\\nwith this model very well and the general pattern of the evolution of the\\nMoon-Earth system described by this model agrees with geological and fossil\\nevidence. The closest distance of the Moon to Earth was about 259000 km at 4.5\\nbillion years ago, which is far beyond the Roche&apos;s limit. The result suggests\\nthat the tidal friction may not be the primary cause for the evolution of the\\nEarth-Moon system. The average dark matter field fluid constant derived from\\nEarth-Moon system data is 4.39 x 10^(-22) s^(-1)m^(-1). This model predicts\\nthat the Mars&apos;s rotation is also slowing with the angular acceleration rate\\nabout -4.38 x 10^(-22) rad s^(-2).\\n</td><td style = \"text-align: left;\">Hongjun Pan</td><td style = \"font-style: italic; text-align: left;\"></td><td style = \"text-align: right;\">2007</td></tr><tr><td class = \"rowNumber\" style = \"font-weight: bold; text-align: right;\">4</td><td style = \"text-align: left;\">0704.0004</td><td style = \"text-align: left;\">A determinant of Stirling cycle numbers counts unlabeled acyclic\\n  single-source automata</td><td style = \"text-align: left;\">  We show that a determinant of Stirling cycle numbers counts unlabeled acyclic\\nsingle-source automata. The proof involves a bijection from these automata to\\ncertain marked lattice paths and a sign-reversing involution to evaluate the\\ndeterminant.\\n</td><td style = \"text-align: left;\">David Callan</td><td style = \"font-style: italic; text-align: left;\"></td><td style = \"text-align: right;\">2007</td></tr><tr><td class = \"rowNumber\" style = \"font-weight: bold; text-align: right;\">5</td><td style = \"text-align: left;\">0704.0005</td><td style = \"text-align: left;\">From dyadic $\\\\Lambda_{\\\\alpha}$ to $\\\\Lambda_{\\\\alpha}$</td><td style = \"text-align: left;\">  In this paper we show how to compute the $\\\\Lambda_{\\\\alpha}$ norm, $\\\\alpha\\\\ge\\n0$, using the dyadic grid. This result is a consequence of the description of\\nthe Hardy spaces $H^p(R^N)$ in terms of dyadic and special atoms.\\n</td><td style = \"text-align: left;\">Wael Abu-Shammala and Alberto Torchinsky</td><td style = \"font-style: italic; text-align: left;\"></td><td style = \"text-align: right;\">2007</td></tr><tr><td class = \"rowNumber\" style = \"font-weight: bold; text-align: right;\">6</td><td style = \"text-align: left;\">0704.0006</td><td style = \"text-align: left;\">Bosonic characters of atomic Cooper pairs across resonance</td><td style = \"text-align: left;\">  We study the two-particle wave function of paired atoms in a Fermi gas with\\ntunable interaction strengths controlled by Feshbach resonance. The Cooper pair\\nwave function is examined for its bosonic characters, which is quantified by\\nthe correction of Bose enhancement factor associated with the creation and\\nannihilation composite particle operators. An example is given for a\\nthree-dimensional uniform gas. Two definitions of Cooper pair wave function are\\nexamined. One of which is chosen to reflect the off-diagonal long range order\\n(ODLRO). Another one corresponds to a pair projection of a BCS state. On the\\nside with negative scattering length, we found that paired atoms described by\\nODLRO are more bosonic than the pair projected definition. It is also found\\nthat at $(k_F a)^{-1} \\\\ge 1$, both definitions give similar results, where more\\nthan 90% of the atoms occupy the corresponding molecular condensates.\\n</td><td style = \"text-align: left;\">Y. H. Pong and C. K. Law</td><td style = \"text-align: left;\">10.1103/PhysRevA.75.043613</td><td style = \"text-align: right;\">2007</td></tr><tr><td class = \"rowNumber\" style = \"font-weight: bold; text-align: right;\">7</td><td style = \"text-align: left;\">0704.0007</td><td style = \"text-align: left;\">Polymer Quantum Mechanics and its Continuum Limit</td><td style = \"text-align: left;\">  A rather non-standard quantum representation of the canonical commutation\\nrelations of quantum mechanics systems, known as the polymer representation has\\ngained some attention in recent years, due to its possible relation with Planck\\nscale physics. In particular, this approach has been followed in a symmetric\\nsector of loop quantum gravity known as loop quantum cosmology. Here we explore\\ndifferent aspects of the relation between the ordinary Schroedinger theory and\\nthe polymer description. The paper has two parts. In the first one, we derive\\nthe polymer quantum mechanics starting from the ordinary Schroedinger theory\\nand show that the polymer description arises as an appropriate limit. In the\\nsecond part we consider the continuum limit of this theory, namely, the reverse\\nprocess in which one starts from the discrete theory and tries to recover back\\nthe ordinary Schroedinger quantum mechanics. We consider several examples of\\ninterest, including the harmonic oscillator, the free particle and a simple\\ncosmological model.\\n</td><td style = \"text-align: left;\">Alejandro Corichi, Tatjana Vukasinac and Jose A. Zapata</td><td style = \"text-align: left;\">10.1103/PhysRevD.76.044016</td><td style = \"text-align: right;\">2007</td></tr><tr><td class = \"rowNumber\" style = \"font-weight: bold; text-align: right;\">8</td><td style = \"text-align: left;\">0704.0008</td><td style = \"text-align: left;\">Numerical solution of shock and ramp compression for general material\\n  properties</td><td style = \"text-align: left;\">  A general formulation was developed to represent material models for\\napplications in dynamic loading. Numerical methods were devised to calculate\\nresponse to shock and ramp compression, and ramp decompression, generalizing\\nprevious solutions for scalar equations of state. The numerical methods were\\nfound to be flexible and robust, and matched analytic results to a high\\naccuracy. The basic ramp and shock solution methods were coupled to solve for\\ncomposite deformation paths, such as shock-induced impacts, and shock\\ninteractions with a planar interface between different materials. These\\ncalculations capture much of the physics of typical material dynamics\\nexperiments, without requiring spatially-resolving simulations. Example\\ncalculations were made of loading histories in metals, illustrating the effects\\nof plastic work on the temperatures induced in quasi-isentropic and\\nshock-release experiments, and the effect of a phase transition.\\n</td><td style = \"text-align: left;\">Damian C. Swift</td><td style = \"text-align: left;\">10.1063/1.2975338</td><td style = \"text-align: right;\">2007</td></tr><tr><td class = \"rowNumber\" style = \"font-weight: bold; text-align: right;\">9</td><td style = \"text-align: left;\">0704.0009</td><td style = \"text-align: left;\">The Spitzer c2d Survey of Large, Nearby, Insterstellar Clouds. IX. The\\n  Serpens YSO Population As Observed With IRAC and MIPS</td><td style = \"text-align: left;\">  We discuss the results from the combined IRAC and MIPS c2d Spitzer Legacy\\nobservations of the Serpens star-forming region. In particular we present a set\\nof criteria for isolating bona fide young stellar objects, YSO&apos;s, from the\\nextensive background contamination by extra-galactic objects. We then discuss\\nthe properties of the resulting high confidence set of YSO&apos;s. We find 235 such\\nobjects in the 0.85 deg^2 field that was covered with both IRAC and MIPS. An\\nadditional set of 51 lower confidence YSO&apos;s outside this area is identified\\nfrom the MIPS data combined with 2MASS photometry. We describe two sets of\\nresults, color-color diagrams to compare our observed source properties with\\nthose of theoretical models for star/disk/envelope systems and our own modeling\\nof the subset of our objects that appear to be star+disks. These objects\\nexhibit a very wide range of disk properties, from many that can be fit with\\nactively accreting disks to some with both passive disks and even possibly\\ndebris disks. We find that the luminosity function of YSO&apos;s in Serpens extends\\ndown to at least a few x .001 Lsun or lower for an assumed distance of 260 pc.\\nThe lower limit may be set by our inability to distinguish YSO&apos;s from\\nextra-galactic sources more than by the lack of YSO&apos;s at very low luminosities.\\nA spatial clustering analysis shows that the nominally less-evolved YSO&apos;s are\\nmore highly clustered than the later stages and that the background\\nextra-galactic population can be fit by the same two-point correlation function\\nas seen in other extra-galactic studies. We also present a table of matches\\nbetween several previous infrared and X-ray studies of the Serpens YSO\\npopulation and our Spitzer data set.\\n</td><td style = \"text-align: left;\">Paul Harvey, Bruno Merin, Tracy L. Huard, Luisa M. Rebull, Nicholas\\n  Chapman, Neal J. Evans II, Philip C. Myers</td><td style = \"text-align: left;\">10.1086/518646</td><td style = \"text-align: right;\">2007</td></tr><tr><td class = \"rowNumber\" style = \"font-weight: bold; text-align: right;\">10</td><td style = \"text-align: left;\">0704.0010</td><td style = \"text-align: left;\">Partial cubes: structures, characterizations, and constructions</td><td style = \"text-align: left;\">  Partial cubes are isometric subgraphs of hypercubes. Structures on a graph\\ndefined by means of semicubes, and Djokovi\\\\&apos;{c}&apos;s and Winkler&apos;s relations play\\nan important role in the theory of partial cubes. These structures are employed\\nin the paper to characterize bipartite graphs and partial cubes of arbitrary\\ndimension. New characterizations are established and new proofs of some known\\nresults are given.\\n  The operations of Cartesian product and pasting, and expansion and\\ncontraction processes are utilized in the paper to construct new partial cubes\\nfrom old ones. In particular, the isometric and lattice dimensions of finite\\npartial cubes obtained by means of these operations are calculated.\\n</td><td style = \"text-align: left;\">Sergei Ovchinnikov</td><td style = \"font-style: italic; text-align: left;\"></td><td style = \"text-align: right;\">2007</td></tr><tr><td class = \"rowNumber\" style = \"font-weight: bold; text-align: right;\">11</td><td style = \"text-align: left;\">0704.0011</td><td style = \"text-align: left;\">Computing genus 2 Hilbert-Siegel modular forms over $\\\\Q(\\\\sqrt{5})$ via\\n  the Jacquet-Langlands correspondence</td><td style = \"text-align: left;\">  In this paper we present an algorithm for computing Hecke eigensystems of\\nHilbert-Siegel cusp forms over real quadratic fields of narrow class number\\none. We give some illustrative examples using the quadratic field\\n$\\\\Q(\\\\sqrt{5})$. In those examples, we identify Hilbert-Siegel eigenforms that\\nare possible lifts from Hilbert eigenforms.\\n</td><td style = \"text-align: left;\">Clifton Cunningham and Lassina Dembele</td><td style = \"font-style: italic; text-align: left;\"></td><td style = \"text-align: right;\">2007</td></tr><tr><td class = \"rowNumber\" style = \"font-weight: bold; text-align: right;\">12</td><td style = \"text-align: left;\">0704.0012</td><td style = \"text-align: left;\">Distribution of integral Fourier Coefficients of a Modular Form of Half\\n  Integral Weight Modulo Primes</td><td style = \"text-align: left;\">  Recently, Bruinier and Ono classified cusp forms $f(z) := \\\\sum_{n=0}^{\\\\infty}\\na_f(n)q ^n \\\\in S_{\\\\lambda+1/2}(\\\\Gamma_0(N),\\\\chi)\\\\cap \\\\mathbb{Z}[[q]]$ that does\\nnot satisfy a certain distribution property for modulo odd primes $p$. In this\\npaper, using Rankin-Cohen Bracket, we extend this result to modular forms of\\nhalf integral weight for primes $p \\\\geq 5$. As applications of our main theorem\\nwe derive distribution properties, for modulo primes $p\\\\geq5$, of traces of\\nsingular moduli and Hurwitz class number. We also study an analogue of Newman&apos;s\\nconjecture for overpartitions.\\n</td><td style = \"text-align: left;\">Dohoon Choi</td><td style = \"font-style: italic; text-align: left;\"></td><td style = \"text-align: right;\">2007</td></tr><tr><td class = \"rowNumber\" style = \"font-weight: bold; text-align: right;\">13</td><td style = \"text-align: left;\">0704.0013</td><td style = \"text-align: left;\">$p$-adic Limit of Weakly Holomorphic Modular Forms of Half Integral\\n  Weight</td><td style = \"text-align: left;\">  Serre obtained the p-adic limit of the integral Fourier coefficient of\\nmodular forms on $SL_2(\\\\mathbb{Z})$ for $p=2,3,5,7$. In this paper, we extend\\nthe result of Serre to weakly holomorphic modular forms of half integral weight\\non $\\\\Gamma_{0}(4N)$ for $N=1,2,4$. A proof is based on linear relations among\\nFourier coefficients of modular forms of half integral weight. As applications\\nwe obtain congruences of Borcherds exponents, congruences of quotient of\\nEisentein series and congruences of values of $L$-functions at a certain point\\nare also studied. Furthermore, the congruences of the Fourier coefficients of\\nSiegel modular forms on Maass Space are obtained using Ikeda lifting.\\n</td><td style = \"text-align: left;\">Dohoon Choi and YoungJu Choie</td><td style = \"font-style: italic; text-align: left;\"></td><td style = \"text-align: right;\">2007</td></tr><tr><td style = \"text-align: right;\">&vellip;</td><td style = \"text-align: right;\">&vellip;</td><td style = \"text-align: right;\">&vellip;</td><td style = \"text-align: right;\">&vellip;</td><td style = \"text-align: right;\">&vellip;</td><td style = \"text-align: right;\">&vellip;</td><td style = \"text-align: right;\">&vellip;</td></tr><tr><td class = \"rowNumber\" style = \"font-weight: bold; text-align: right;\">2459546</td><td style = \"text-align: left;\">supr-con/9608001</td><td style = \"text-align: left;\">Topology and Phase Transitions in the Little-Parks Experiment</td><td style = \"text-align: left;\">  This is an analytic study of the problem of transitions between normal and\\nsuperconducting phases for a sample which encloses a magnetic flux. A\\npreliminary study of this problem, based on numerical minimization of the free\\nenergy for a particular form of the thickness of the sample, was published in\\nPhys. Rev. Lett. {\\\\bf 75}, 320 (1995). For a sample of uniform thickness the\\norder parameter is uniform, but even infinitesimal deviations from uniform\\nthickness give rise to a singly connected state in which the order parameter\\nvanishes at a suitable layer, so that the superconducting part does not enclose\\nthe magnetic field. The stability domain of this singly connected state is a\\nline segment in the magnetic field-temperature plane, delimited by two critical\\npoints. The phase diagram contains several bifurcation lines, which are\\nsystematically analyzed.\\n</td><td style = \"text-align: left;\">Jorge Berger and Jacob Rubinstein (Technion)</td><td style = \"font-style: italic; text-align: left;\"></td><td style = \"text-align: right;\">1996</td></tr><tr><td class = \"rowNumber\" style = \"font-weight: bold; text-align: right;\">2459547</td><td style = \"text-align: left;\">supr-con/9608002</td><td style = \"text-align: left;\">c-Axis Infrared Conductivity of a d_{x^2-y^2}-Wave Superconductor with\\n  Impurity and Spin-Fluctuation Scattering</td><td style = \"text-align: left;\">  Results of a calculation of the c-axis infrared conductivity sigma_c for a\\nd_{x^2-y^2}-wave superconductor which include both elastic impurity and\\ninelastic spin-fluctuation scattering are presented and compared with the\\nab-plane conductivity sigma_{ab} in the same model. In this model,the\\ninterlayer c-axis coupling is taken to be weak and diffusive. While in clean\\nsystems, inelastic scattering leads to a peak at omega = 4*Delta_0 in\\nsigma_{ab} for T &lt; T_c, it has little effect on the corresponding sigma_c,\\nwhich exhibits structure only at omega = 2*Delta_0 and is directly related to\\nthe single-particle density of states N(omega). The c-axis penetration depth\\nlambda_c in the same model is predicted to vary as T^3 at low temperatures in\\nclean samples. We discuss recent optical experiments on the cuprates and\\ncompare with these predictions.\\n</td><td style = \"text-align: left;\">P. J. Hirschfeld, S. M. Quinlan, and D. J. Scalapino</td><td style = \"text-align: left;\">10.1103/PhysRevB.55.12742</td><td style = \"text-align: right;\">1996</td></tr><tr><td class = \"rowNumber\" style = \"font-weight: bold; text-align: right;\">2459548</td><td style = \"text-align: left;\">supr-con/9608003</td><td style = \"text-align: left;\">Extended bound states and resonances of two fermions on a periodic\\n  lattice</td><td style = \"text-align: left;\">  The high-$T_c$ cuprates are possible candidates for d-wave superconductivity,\\nwith the Cooper pair wave function belonging to a non-trivial irreducible\\nrepresentation of the lattice point group. We argue that this d-wave symmetry\\nis related to a special form of the fermionic kinetic energy and does not\\nrequire any novel pairing mechanism. In this context, we present a detailed\\nstudy of the bound states and resonances formed by two lattice fermions\\ninteracting via a non-retarded potential that is attractive for nearest\\nneighbors but repulsive for other relative positions. In the case of strong\\nbinding, a pair formed by fermions on adjacent lattice sites can have a small\\neffective mass, thereby implying a high condensation temperature. For a weakly\\nbound state, a pair with non-trivial symmetry tends to be smaller in size than\\nan s-wave pair. These and other findings are discussed in connection with the\\nproperties of high-$T_c$ cuprate superconductors.\\n</td><td style = \"text-align: left;\">A. S. Blaer (1), H. C. Ren (2), and O. Tchernyshyov (1) ((1) Columbia\\n  University, (2) Rockefeller University)</td><td style = \"text-align: left;\">10.1103/PhysRevB.55.6035</td><td style = \"text-align: right;\">1996</td></tr><tr><td class = \"rowNumber\" style = \"font-weight: bold; text-align: right;\">2459549</td><td style = \"text-align: left;\">supr-con/9608004</td><td style = \"text-align: left;\">Ginzburg-Landau-Gor&apos;kov Theory of Magnetic oscillations in a type-II\\n  2-dimensional Superconductor</td><td style = \"text-align: left;\">  We investigate de Haas-van Alphen (dHvA) oscillations in the mixed state of a\\ntype-II two-dimensional superconductor within a self-consistent Gor&apos;kov\\nperturbation scheme. Assuming that the order parameter forms a vortex lattice\\nwe can calculate the expansion coefficients exactly to any order. We have\\ntested the results of the perturbation theory to fourth and eight order against\\nan exact numerical solution of the corresponding Bogoliubov-de Gennes\\nequations. The perturbation theory is found to describe the onset of\\nsuperconductivity well close to the transition point $H_{c2}$. Contrary to\\nearlier calculations by other authors we do not find that the perturbative\\nscheme predicts any maximum of the dHvA-oscillations below $H_{c2}$. Instead we\\nobtain a substantial damping of the magnetic oscillations in the mixed state as\\ncompared to the normal state. We have examined the effect of an oscillatory\\nchemical potential due to particle conservation and the effect of a finite\\nZeeman splitting. Furthermore we have investigated the recently debated issue\\nof a possibility of a sign change of the fundamental harmonic of the magnetic\\noscillations. Our theory is compared with experiment and we have found good\\nagreement.\\n</td><td style = \"text-align: left;\">G. M. Bruun, V. N. Nicopoulos, N. F. Johnson</td><td style = \"text-align: left;\">10.1103/PhysRevB.56.809</td><td style = \"text-align: right;\">1996</td></tr><tr><td class = \"rowNumber\" style = \"font-weight: bold; text-align: right;\">2459550</td><td style = \"text-align: left;\">supr-con/9608005</td><td style = \"text-align: left;\">Evidence for Quasiparticle Decay in Photoemission from Underdoped\\n  Cuprates</td><td style = \"text-align: left;\">  I argue that the ``gap&apos;&apos; recently observed at the Brillouin zone face of\\ncuprate superconductors in photoemission by Marshall et al [Phys. Rev. Lett.\\n76, 4841 (1996)] and Ding et al [Nature 382, 54 (1996)] is evidence for the\\ndecay of the injected hole into a spinon-holon pair.\\n</td><td style = \"text-align: left;\">R. B. Laughlin (Stanford)</td><td style = \"text-align: left;\">10.1103/PhysRevLett.79.1726</td><td style = \"text-align: right;\">1996</td></tr><tr><td class = \"rowNumber\" style = \"font-weight: bold; text-align: right;\">2459551</td><td style = \"text-align: left;\">supr-con/9608006</td><td style = \"text-align: left;\">Strong coupling theory of the interlayer tunneling model for high\\n  temperature superconductors</td><td style = \"text-align: left;\">  The interlayer pair tunneling model of Anderson et al. is generalized to\\ninclude the strong coupling effects associated with in-plane interactions. The\\nequations for the superconducting transition temperature T_{c} are solved\\nnumerically for several models of electron-optical phonon coupling. The\\nnonmagnetic in-plane impurity scattering suppresses T_{c} in all cases\\nconsidered, and it is possible to obtain a fair agreement with experiments for\\na reasonable choice of parameters. For the anisotropic electron-phonon coupling\\nproposed by Song and Annett we find that the interlayer pair tunneling can\\nstabilize the d_{x^2-y^2}-wave superconducting state with a high T_{c}.\\nMoreover, in this case there is a possibility of an impurity induced crossover\\nfrom the d$_{x^2-y^2}$-wave state stabilized by the interlayer tunneling to the\\ns-wave state at a low impurity concentration. We also calculate the isotope\\neffect associated with the in-plane oxygen optic mode and its dependence on the\\nstrength of the interlayer pair tunneling. Small positive values of the isotope\\nexponent are obtained for strengths of pair tunneling that give high transition\\ntemperatures.\\n</td><td style = \"text-align: left;\">B. Mitrovic and M. Castle (Brock University, Canada)</td><td style = \"text-align: left;\">10.1088/0953-8984/9/42/015</td><td style = \"text-align: right;\">1996</td></tr><tr><td class = \"rowNumber\" style = \"font-weight: bold; text-align: right;\">2459552</td><td style = \"text-align: left;\">supr-con/9608007</td><td style = \"text-align: left;\">The Fluctuation Induced Pseudogap in the Infrared Optical Conductivity\\n  of High Temperature Superconductors</td><td style = \"text-align: left;\">  We study the effect of fluctuations on the {\\\\bf ac} conductivity of a layered\\nsuperconductor both for $c$-axis and $ab$-plane electromagnetic wave\\npolarizations. The fluctuation contributions of different physical nature and\\nsigns (paraconductivity, Maki-Thompson anomalous contribution, one-electron\\ndensity of states renormalization) are found to be suppressed by the external\\nfield at different characterisitic frequencies ($ \\\\omega_{\\\\rm AL}\\\\sim T-T_{\\\\rm\\nc}$, $\\\\omega_{\\\\rm MT} \\\\sim \\\\max\\\\{ T-T_{\\\\rm c}, \\\\tau_{\\\\varphi}^{-1}\\\\}$, $\\n\\\\omega_{\\\\rm DOS} \\\\sim \\\\min\\\\{T,\\\\tau ^{-1}\\\\}$ for the $2D$ case). As a result the\\nappearance of the nonmonotonic frequency dependence (pseudogap) in the infrared\\noptical conductivity of HTS film is predicted. The effect has to be especially\\npronounced in the case of the electromagnetic field polarization along\\n$c$-axis.\\n</td><td style = \"text-align: left;\">Francesca Federici, Andrei A. Varlamov</td><td style = \"text-align: left;\">10.1103/PhysRevB.55.6070</td><td style = \"text-align: right;\">1996</td></tr><tr><td class = \"rowNumber\" style = \"font-weight: bold; text-align: right;\">2459553</td><td style = \"text-align: left;\">supr-con/9608008</td><td style = \"text-align: left;\">On the origin of the irreversibility line in thin YBaCuO7 films with and\\n  without columnar defects</td><td style = \"text-align: left;\">  We report on measurements of the angular dependence of the irreversibility\\ntemperature $T_{irr}(\\\\theta) $ in $YBa_2Cu_3O_{7-\\\\delta }$ thin films, defined\\nby the onset of a third harmonic signal and measured by a miniature Hall probe.\\nFrom the functional form of $T_{irr}(\\\\theta)$ we conclude that the origin of\\nthe irreversibility line in unirradiated films is a dynamic crossover from an\\nunpinned to a pinned vortex liquid. In irradiated films the irreversibility\\ntemperature is determined by the trapping angle.\\n</td><td style = \"text-align: left;\">R. Prozorov, M. Konczykowski, B. Schmidt, Y. Yeshurun, A. Shaulov, C.\\n  Villard, G. Koren</td><td style = \"text-align: left;\">10.1103/PhysRevB.54.15530</td><td style = \"text-align: right;\">1996</td></tr><tr><td class = \"rowNumber\" style = \"font-weight: bold; text-align: right;\">2459554</td><td style = \"text-align: left;\">supr-con/9609001</td><td style = \"text-align: left;\">Nonlinear Response of HTSC Thin Film Microwave Resonators in an Applied\\n  DC Magnetic Field</td><td style = \"text-align: left;\">  The non-linear microwave surface impedance of patterned YBCO thin films, was\\nmeasured using a suspended line resonator in the presence of a perpendicular DC\\nmagnetic field of magnitude comparable to that of the microwave field.\\nSignature of the virgin state was found to be absent even for relatively low\\nmicrowave power levels. The microwave loss was initially found to decrease for\\nsmall applied DC field before increasing again. Also, non-linearities inherent\\nin the sample were found to be substantially suppressed at low powers at these\\napplied fields. These two features together can lead to significant improvement\\nin device performance.\\n</td><td style = \"text-align: left;\">Durga P. Choudhury, Balam A. Willemsen, John S. Derov and S. Sridhar\\n  (Physics Department, Northeastern University and Rome Laboratory, Hanscom\\n  AFB.)</td><td style = \"text-align: left;\">10.1109/77.620744</td><td style = \"text-align: right;\">1996</td></tr><tr><td class = \"rowNumber\" style = \"font-weight: bold; text-align: right;\">2459555</td><td style = \"text-align: left;\">supr-con/9609002</td><td style = \"text-align: left;\">Critical State Flux Penetration and Linear Microwave Vortex Response in\\n  YBa_2Cu_3O_{7-x} Films</td><td style = \"text-align: left;\">  The vortex contribution to the dc field (H) dependent microwave surface\\nimpedance Z_s = R_s+iX_s of YBa_2Cu_3O_{7-x} thin films was measured using\\nsuspended patterned resonators. Z_s(H) is shown to be a direct measure of the\\nflux density B(H) enabling a very precise test of models of flux penetration.\\nThree regimes of field-dependent behavior were observed: (1) Initial flux\\npenetration occurs on very low field scales H_i(4.2K) 100Oe, (2) At moderate\\nfields the flux penetration into the virgin state is in excellent agreement\\nwith calculations based upon the field-induced Bean critical state for thin\\nfilm geometry, parametrized by a field scale H_s(4.2K) J_c*d 0.5T, (3) for very\\nhigh fields H &gt;&gt;H_s, the flux density is uniform and the measurements enable\\ndirect determination of vortex parameters such as pinning force constants\\n\\\\alpha_p and vortex viscosity \\\\eta. However hysteresis loops are in\\ndisagreement with the thin film Bean model, and instead are governed by the low\\nfield scale H_i, rather than by H_s. Geometric barriers are insufficient to\\naccount for the observed results.\\n</td><td style = \"text-align: left;\">Balam A. Willemsen, J. S. Derov and S.Sridhar (Physics Department,\\n  Northeastern University and Rome Laboratory, Hanscom AFB)</td><td style = \"text-align: left;\">10.1103/PhysRevB.56.11989</td><td style = \"text-align: right;\">1996</td></tr><tr><td class = \"rowNumber\" style = \"font-weight: bold; text-align: right;\">2459556</td><td style = \"text-align: left;\">supr-con/9609003</td><td style = \"text-align: left;\">Density of States and NMR Relaxation Rate in Anisotropic\\n  Superconductivity with Intersecting Line Nodes</td><td style = \"text-align: left;\">  We show that the density of states in an anisotropic superconductor with\\nintersecting line nodes in the gap function is proportional to $E log (\\\\alpha\\n\\\\Delta_0 /E)$ for $|E| &lt;&lt; \\\\Delta_0$, where $\\\\Delta_0$ is the maximum value of\\nthe gap function and $\\\\alpha$ is constant, while it is proportional to $E$ if\\nthe line nodes do not intersect. As a result, a logarithmic correction appears\\nin the temperature dependence of the NMR relaxation rate and the specific heat,\\nwhich can be observed experimentally. By comparing with those for the heavy\\nfermion superconductors, we can obtain information about the symmetry of the\\ngap function.\\n</td><td style = \"text-align: left;\">Yasumasa Hasegawa (Himeji Institute of Technology)</td><td style = \"text-align: left;\">10.1143/JPSJ.65.3131</td><td style = \"text-align: right;\">1996</td></tr><tr><td class = \"rowNumber\" style = \"font-weight: bold; text-align: right;\">2459557</td><td style = \"text-align: left;\">supr-con/9609004</td><td style = \"text-align: left;\">Ginzburg Landau theory for d-wave pairing and fourfold symmetric vortex\\n  core structure</td><td style = \"text-align: left;\">  The Ginzburg Landau theory for d_{x^2-y^2}-wave superconductors is\\nconstructed, by starting from the Gor&apos;kov equation with including correction\\nterms up to the next order of ln(T_c/T). Some of the non-local correction terms\\nare found to break the cylindrical symmetry and lead to the fourfold symmetric\\ncore structure, reflecting the internal degree of freedom in the pair\\npotential. Using this extended Ginzburg Landau theory, we investigate the\\nfourfold symmetric structure of the pair potential, current and magnetic field\\naround an isolated single vortex, and clarify concretely how the vortex core\\nstructure deviates from the cylindrical symmetry in the d_{x^2-y^2}-wave\\nsuperconductors.\\n</td><td style = \"text-align: left;\">Naoki Enomoto, Masanori Ichioka and Kazushige Machida (Okayama Univ.)</td><td style = \"text-align: left;\">10.1143/JPSJ.66.204</td><td style = \"text-align: right;\">1996</td></tr></tbody></table></div>"
      ],
      "text/latex": [
       "\\begin{tabular}{r|ccc}\n",
       "\t& id & title & \\\\\n",
       "\t\\hline\n",
       "\t& String & String & \\\\\n",
       "\t\\hline\n",
       "\t1 & 0704.0001 & Calculation of prompt diphoton production cross sections at Tevatron and\\textbackslash{}n  LHC energies & $\\dots$ \\\\\n",
       "\t2 & 0704.0002 & Sparsity-certifying Graph Decompositions & $\\dots$ \\\\\n",
       "\t3 & 0704.0003 & The evolution of the Earth-Moon system based on the dark matter field\\textbackslash{}n  fluid model & $\\dots$ \\\\\n",
       "\t4 & 0704.0004 & A determinant of Stirling cycle numbers counts unlabeled acyclic\\textbackslash{}n  single-source automata & $\\dots$ \\\\\n",
       "\t5 & 0704.0005 & From dyadic \\$\\textbackslash{}\\textbackslash{}Lambda\\_\\{\\textbackslash{}\\textbackslash{}alpha\\}\\$ to \\$\\textbackslash{}\\textbackslash{}Lambda\\_\\{\\textbackslash{}\\textbackslash{}alpha\\}\\$ & $\\dots$ \\\\\n",
       "\t6 & 0704.0006 & Bosonic characters of atomic Cooper pairs across resonance & $\\dots$ \\\\\n",
       "\t7 & 0704.0007 & Polymer Quantum Mechanics and its Continuum Limit & $\\dots$ \\\\\n",
       "\t8 & 0704.0008 & Numerical solution of shock and ramp compression for general material\\textbackslash{}n  properties & $\\dots$ \\\\\n",
       "\t9 & 0704.0009 & The Spitzer c2d Survey of Large, Nearby, Insterstellar Clouds. IX. The\\textbackslash{}n  Serpens YSO Population As Observed With IRAC and MIPS & $\\dots$ \\\\\n",
       "\t10 & 0704.0010 & Partial cubes: structures, characterizations, and constructions & $\\dots$ \\\\\n",
       "\t11 & 0704.0011 & Computing genus 2 Hilbert-Siegel modular forms over \\$\\textbackslash{}\\textbackslash{}Q(\\textbackslash{}\\textbackslash{}sqrt\\{5\\})\\$ via\\textbackslash{}n  the Jacquet-Langlands correspondence & $\\dots$ \\\\\n",
       "\t12 & 0704.0012 & Distribution of integral Fourier Coefficients of a Modular Form of Half\\textbackslash{}n  Integral Weight Modulo Primes & $\\dots$ \\\\\n",
       "\t13 & 0704.0013 & \\$p\\$-adic Limit of Weakly Holomorphic Modular Forms of Half Integral\\textbackslash{}n  Weight & $\\dots$ \\\\\n",
       "\t14 & 0704.0014 & Iterated integral and the loop product & $\\dots$ \\\\\n",
       "\t15 & 0704.0015 & Fermionic superstring loop amplitudes in the pure spinor formalism & $\\dots$ \\\\\n",
       "\t16 & 0704.0016 & Lifetime of doubly charmed baryons & $\\dots$ \\\\\n",
       "\t17 & 0704.0017 & Spectroscopic Observations of the Intermediate Polar EX Hydrae in\\textbackslash{}n  Quiescence & $\\dots$ \\\\\n",
       "\t18 & 0704.0018 & In quest of a generalized Callias index theorem & $\\dots$ \\\\\n",
       "\t19 & 0704.0019 & Approximation for extinction probability of the contact process based on\\textbackslash{}n  the Gr\\textbackslash{}\\textbackslash{}\"obner basis & $\\dots$ \\\\\n",
       "\t20 & 0704.0020 & Measurement of the Hadronic Form Factor in D0 --> K- e+ nue Decays & $\\dots$ \\\\\n",
       "\t21 & 0704.0021 & Molecular Synchronization Waves in Arrays of Allosterically Regulated\\textbackslash{}n  Enzymes & $\\dots$ \\\\\n",
       "\t22 & 0704.0022 & Stochastic Lie group integrators & $\\dots$ \\\\\n",
       "\t23 & 0704.0023 & ALMA as the ideal probe of the solar chromosphere & $\\dots$ \\\\\n",
       "\t24 & 0704.0024 & Formation of quasi-solitons in transverse confined ferromagnetic film\\textbackslash{}n  media & $\\dots$ \\\\\n",
       "\t25 & 0704.0025 & Spectroscopic Properties of Polarons in Strongly Correlated Systems by\\textbackslash{}n  Exact Diagrammatic Monte Carlo Method & $\\dots$ \\\\\n",
       "\t26 & 0704.0026 & Placeholder Substructures II: Meta-Fractals, Made of Box-Kites, Fill\\textbackslash{}n  Infinite-Dimensional Skies & $\\dots$ \\\\\n",
       "\t27 & 0704.0027 & Filling-Factor-Dependent Magnetophonon Resonance in Graphene & $\\dots$ \\\\\n",
       "\t28 & 0704.0028 & Pfaffians, hafnians and products of real linear functionals & $\\dots$ \\\\\n",
       "\t29 & 0704.0029 & Understanding the Flavor Symmetry Breaking and Nucleon Flavor-Spin\\textbackslash{}n  Structure within Chiral Quark Model & $\\dots$ \\\\\n",
       "\t30 & 0704.0030 & Tuning correlation effects with electron-phonon interactions & $\\dots$ \\\\\n",
       "\t$\\dots$ & $\\dots$ & $\\dots$ &  \\\\\n",
       "\\end{tabular}\n"
      ],
      "text/plain": [
       "\u001b[1m2459557×6 DataFrame\u001b[0m\n",
       "\u001b[1m     Row \u001b[0m│\u001b[1m id               \u001b[0m\u001b[1m title                             \u001b[0m\u001b[1m abstract      \u001b[0m ⋯\n",
       "         │\u001b[90m String           \u001b[0m\u001b[90m String                            \u001b[0m\u001b[90m String        \u001b[0m ⋯\n",
       "─────────┼──────────────────────────────────────────────────────────────────────\n",
       "       1 │ 0704.0001         Calculation of prompt diphoton p…    A fully diff ⋯\n",
       "       2 │ 0704.0002         Sparsity-certifying Graph Decomp…    We describe\n",
       "       3 │ 0704.0003         The evolution of the Earth-Moon …    The evolutio\n",
       "       4 │ 0704.0004         A determinant of Stirling cycle …    We show that\n",
       "       5 │ 0704.0005         From dyadic $\\\\Lambda_{\\\\alpha}$…    In this pape ⋯\n",
       "       6 │ 0704.0006         Bosonic characters of atomic Coo…    We study the\n",
       "       7 │ 0704.0007         Polymer Quantum Mechanics and it…    A rather non\n",
       "       8 │ 0704.0008         Numerical solution of shock and …    A general fo\n",
       "       9 │ 0704.0009         The Spitzer c2d Survey of Large,…    We discuss t ⋯\n",
       "      10 │ 0704.0010         Partial cubes: structures, chara…    Partial cube\n",
       "      11 │ 0704.0011         Computing genus 2 Hilbert-Siegel…    In this pape\n",
       "    ⋮    │        ⋮                          ⋮                                 ⋱\n",
       " 2459548 │ supr-con/9608003  Extended bound states and resona…    The high-$T_\n",
       " 2459549 │ supr-con/9608004  Ginzburg-Landau-Gor'kov Theory o…    We investiga ⋯\n",
       " 2459550 │ supr-con/9608005  Evidence for Quasiparticle Decay…    I argue that\n",
       " 2459551 │ supr-con/9608006  Strong coupling theory of the in…    The interlay\n",
       " 2459552 │ supr-con/9608007  The Fluctuation Induced Pseudoga…    We study the\n",
       " 2459553 │ supr-con/9608008  On the origin of the irreversibi…    We report on ⋯\n",
       " 2459554 │ supr-con/9609001  Nonlinear Response of HTSC Thin …    The non-line\n",
       " 2459555 │ supr-con/9609002  Critical State Flux Penetration …    The vortex c\n",
       " 2459556 │ supr-con/9609003  Density of States and NMR Relaxa…    We show that\n",
       " 2459557 │ supr-con/9609004  Ginzburg Landau theory for d-wav…    The Ginzburg ⋯\n",
       "\u001b[36m                                              4 columns and 2459536 rows omitted\u001b[0m"
      ]
     },
     "execution_count": 3,
     "metadata": {},
     "output_type": "execute_result"
    }
   ],
   "source": [
    "# load arXiv metadata into dataframe\n",
    "dataset = \"arxiv-metadata-oai-2024-04-15.json\" ;\n",
    "dataframe = JSON3.read.(eachline(dataset)) |> DataFrame ;\n",
    "\n",
    "# take a random subset of N documents from dataframe (for testing on personal computer)\n",
    "N = 0\n",
    "if N > 0\n",
    "    dataframe = dataframe[shuffle(1:nrow(dataframe))[1:N], :]\n",
    "end\n",
    "\n",
    "# extract publication year of every document\n",
    "transform!(dataframe, :versions_dates => ByRow(dates -> parse(Int16, split(dates[1], \" \")[4])) => :year)\n",
    "\n",
    "# keep only relevant columns that will be stored in database\n",
    "dataframe = dataframe[:, [:id, :title, :abstract, :authors, :doi, :year]]"
   ]
  },
  {
   "cell_type": "code",
   "execution_count": 52,
   "id": "139d0904-2180-4346-b0a8-26cb29a7f1c9",
   "metadata": {},
   "outputs": [
    {
     "data": {
      "text/plain": [
       "getvector (generic function with 1 method)"
      ]
     },
     "execution_count": 52,
     "metadata": {},
     "output_type": "execute_result"
    }
   ],
   "source": [
    "# define some useful functions to calculate embedding vectors\n",
    "\n",
    "function wordvector(word, N)\n",
    "    if word in keys(emindex)\n",
    "        emtable.embeddings[:, emindex[word]]\n",
    "    elseif word != lowercase(word)\n",
    "        wordvector(lowercase(word), N)\n",
    "    elseif word in keys(emlower)\n",
    "        emtable.embeddings[:, emlower[word]]\n",
    "    else\n",
    "        Float32.(vec(zeros(1, N)))\n",
    "    end   \n",
    "end\n",
    "\n",
    "function getvector(title, text)\n",
    "    words = reduce(vcat, nltk_word_tokenize.(split_sentences(title * \"\\n\" * text)))\n",
    "    vectors = stack(wordvector.(words, 300))\n",
    "    vec(mean(vectors, dims = 2))\n",
    "end"
   ]
  },
  {
   "cell_type": "code",
   "execution_count": null,
   "id": "2fbd19f7-5595-485c-9fc4-3b4d7f7ea94b",
   "metadata": {},
   "outputs": [],
   "source": [
    "# create a separate column in dataframe that will store embedding vector for each document, might take long on large datasets\n",
    "transform!(dataframe, [:title, :abstract] => ByRow((title, text) -> getvector(title, text)) => :word2vec) ;"
   ]
  },
  {
   "cell_type": "markdown",
   "id": "b2121394-4b71-4c87-b320-f16d9768ff19",
   "metadata": {},
   "source": [
    "<p style = \"text-align:justify\">I will create additional column <i>i</i> to index documents, that will be used later when searching for documents using Redis in-memory index:</p>"
   ]
  },
  {
   "cell_type": "code",
   "execution_count": 4,
   "id": "b7b4f357-7fe3-4c09-b3f8-628d723f31dc",
   "metadata": {},
   "outputs": [],
   "source": [
    "insertcols!(dataframe, 1, :i => 1:nrow(dataframe)) ;"
   ]
  },
  {
   "cell_type": "markdown",
   "id": "3a7bdc88-c7d2-4c7a-baa9-ed853a4ba42c",
   "metadata": {},
   "source": [
    "<p style = \"text-align:justify\">Now I will save the resulting dataframe to CSV file, that will be later imported to Postgres database:</p>"
   ]
  },
  {
   "cell_type": "code",
   "execution_count": 7,
   "id": "d0a645e7-1ce1-4b46-b665-5b0da2ccccc4",
   "metadata": {},
   "outputs": [],
   "source": [
    "embeds = \"arxiv-embeddings-full.csv\"  # output file to store metadata and embeddings that will be uploaded to database\n",
    "dbname = \"science\"                    # database name in postgresql\n",
    "dbowner = \"jupyter-alexandra\"         # user with permissions to create tables\n",
    "pguser = \"researchers\"                # user with a read access to database\n",
    "pgpass = \"KRASLApQ6QjE6hX6ff\"         # user password\n",
    ";"
   ]
  },
  {
   "cell_type": "code",
   "execution_count": 13,
   "id": "288df60a-780c-4941-ac3f-f1e1f412d58c",
   "metadata": {},
   "outputs": [],
   "source": [
    "transform(column, value) = something(value, missing)                               # take care of empty values\n",
    "transform(column, value::String) = replace(value, \"\\n\" => \" \")                     # escape newline symbols in abstracts\n",
    "transform(column, value::Matrix{Float32}) = \"[\" * join(string.(value), \",\") * \"]\"  # encode vector array as string\n",
    "\n",
    "CSV.write(embeds, dataframe, transform = transform) ;"
   ]
  },
  {
   "cell_type": "code",
   "execution_count": 15,
   "id": "1162ab3f-dce9-4c52-b610-bcad4053ea41",
   "metadata": {},
   "outputs": [
    {
     "name": "stdout",
     "output_type": "stream",
     "text": [
      "SET client_min_messages TO WARNING; \n",
      "SET\n",
      "CREATE EXTENSION IF NOT EXISTS vector; \n",
      "CREATE EXTENSION\n",
      "CREATE TABLE arxiv(i INT PRIMARY KEY, id VARCHAR(32), title TEXT, abstract TEXT, authors TEXT, doi VARCHAR(256), year INT,  word2vec vector(300)); \n",
      "CREATE TABLE\n",
      "COPY arxiv(i, id, title, abstract, authors, doi, year, word2vec) FROM '/tmp/arxiv-embeddings-full.csv' DELIMITER ',' CSV HEADER; \n",
      "COPY 2459557\n",
      "CREATE INDEX ON arxiv USING hnsw (word2vec vector_cosine_ops); \n",
      "CREATE INDEX\n",
      "CREATE INDEX ON arxiv (id); \n",
      "CREATE INDEX\n",
      "CREATE INDEX ON arxiv (year); \n",
      "CREATE INDEX\n"
     ]
    }
   ],
   "source": [
    "cp(embeds, \"/tmp/\" * embeds, force = true)\n",
    "\n",
    "open(\"/tmp/arXiv.sql\", \"w\") do output\n",
    "    \n",
    "    sql = \"SET client_min_messages TO WARNING; \\n\" *\n",
    "          \"CREATE EXTENSION IF NOT EXISTS vector; \\n\" *\n",
    "          \"CREATE TABLE arxiv(i INT PRIMARY KEY, id VARCHAR(32), title TEXT, abstract TEXT, authors TEXT, doi VARCHAR(256), year INT,  word2vec vector(300)); \\n\" *\n",
    "          \"COPY arxiv(i, id, title, abstract, authors, doi, year, word2vec) FROM '/tmp/\" * embeds * \"' DELIMITER ',' CSV HEADER; \\n\" *\n",
    "          \"CREATE INDEX ON arxiv USING hnsw (word2vec vector_cosine_ops); \\n\" *\n",
    "          \"CREATE INDEX ON arxiv (id); \\n\" *\n",
    "          \"CREATE INDEX ON arxiv (year); \\n\"\n",
    "    \n",
    "    write(output, sql)\n",
    "end\n",
    "\n",
    "Base.run(`sudo -u $dbowner psql -d $dbname -a -f /tmp/arXiv.sql`)\n",
    "\n",
    "rm(\"/tmp/arxiv-embeddings-full.csv\")"
   ]
  },
  {
   "cell_type": "markdown",
   "id": "6da152aa-5b71-440c-b199-083bf4140fd5",
   "metadata": {},
   "source": [
    "Now let's search for some documents using embeddings. To do this, I will define a function that will take query as a string and return top N documents from the database most similar to the query."
   ]
  },
  {
   "cell_type": "code",
   "execution_count": 27,
   "id": "50592e76-1fbd-4270-8573-4d80481f4711",
   "metadata": {},
   "outputs": [
    {
     "data": {
      "text/plain": [
       "test (generic function with 1 method)"
      ]
     },
     "execution_count": 27,
     "metadata": {},
     "output_type": "execute_result"
    }
   ],
   "source": [
    "# convert query vector from array of numbers to string representation to use in SQL query\n",
    "function search(query, N, pq, model = \"word2vec\")\n",
    "    vector = getvector(\"\", query)\n",
    "    vector = string(\"[\", join(vector, \",\"), \"]\")\n",
    "    result = LibPQ.execute(pq, \"SELECT id, $model <-> \\$1 as distance, title FROM arxiv ORDER BY distance LIMIT \\$2\", [vector, N])\n",
    "    DataFrame(columntable(result))\n",
    "end\n",
    "\n",
    "# run test search for a document specified by title and abstract text\n",
    "function test(title, text; search::Function, N, pq, model = \"word2vec\")\n",
    "    ts = @elapsed results = search(title * \"\\n\" * text, N, pq, model)\n",
    "    title = replace(title, \"\\n\" => \"\")\n",
    "    printstyled(\"\\n\" * title * \"\\n\", underline = true)\n",
    "    println(string(round(ts; digits = 4)) * \" sec.\\n\")\n",
    "    for result in eachrow(results)\n",
    "        println(\"(\" * string(round(result.distance; digits = 4)) * \") \" * result.title)\n",
    "    end\n",
    "end"
   ]
  },
  {
   "cell_type": "markdown",
   "id": "3a805d11-4180-4e2d-a938-d04784d79b8b",
   "metadata": {},
   "source": [
    "Let's test if function works correctly by selecting some random documents from database, and searching for them. The documents should appear at the top:"
   ]
  },
  {
   "cell_type": "code",
   "execution_count": 44,
   "id": "58b9527e-5d2d-4560-868e-ec88a82159ad",
   "metadata": {},
   "outputs": [
    {
     "name": "stdout",
     "output_type": "stream",
     "text": [
      "\n",
      "\u001b[0m\u001b[4mThe leaves of the Fatou set accumulate on the leaves of the Julia set\u001b[24m\n",
      "2.2484 sec.\n",
      "\n",
      "(0.0) The leaves of the Fatou set accumulate on the leaves of the Julia set\n",
      "(0.1008) Tropical curves in sandpile models\n",
      "\n",
      "\u001b[0m\u001b[4mAn Improved Stability Method for Linear Systems with Fast-Varying Delays\u001b[24m\n",
      "2.2566 sec.\n",
      "\n",
      "(0.0) An Improved Stability Method for Linear Systems with Fast-Varying Delays\n",
      "(0.0923) Quadratic obstructions to small-time local controllability for   scalar-input differential systems\n",
      "\n",
      "\u001b[0m\u001b[4mQuasiconformal Mappings and Neumann Eigenvalues of Divergent Elliptic  Operators\u001b[24m\n",
      "2.2627 sec.\n",
      "\n",
      "(0.0) Quasiconformal Mappings and Neumann Eigenvalues of Divergent Elliptic   Operators\n",
      "(0.0815) Estimates of Dirichlet eigenvalues of divergent elliptic operators in   non-Lipschitz domains\n",
      "\n",
      "\u001b[0m\u001b[4mImproving Large-scale Language Models and Resources for Filipino\u001b[24m\n",
      "2.2664 sec.\n",
      "\n",
      "(0.0) Improving Large-scale Language Models and Resources for Filipino\n",
      "(0.0968) The Interplay of Variant, Size, and Task Type in Arabic Pre-trained   Language Models\n",
      "\n",
      "\u001b[0m\u001b[4mA Lucas Critique Compliant SVAR model with Observation-driven  Time-varying Parameters\u001b[24m\n",
      "2.26 sec.\n",
      "\n",
      "(0.0) A Lucas Critique Compliant SVAR model with Observation-driven   Time-varying Parameters\n",
      "(0.1058) Model-Free Trajectory-based Policy Optimization with Monotonic   Improvement\n",
      "\n",
      "\u001b[0m\u001b[4mSelf-Similarity Based Time Warping\u001b[24m\n",
      "2.272 sec.\n",
      "\n",
      "(0.0) Self-Similarity Based Time Warping\n",
      "(0.0759) Semisupervised Manifold Alignment of Multimodal Remote Sensing Images\n",
      "\n",
      "\u001b[0m\u001b[4mNanolensing of gamma-ray bursts\u001b[24m\n",
      "2.259 sec.\n",
      "\n",
      "(0.0) Nanolensing of gamma-ray bursts\n",
      "(0.0672) GRBs as standard candles: There is no \"circularity problem\" (and there   never was)\n",
      "\n",
      "\u001b[0m\u001b[4mMultiple path adiabatic crossing in a 3 site ring\u001b[24m\n",
      "2.265 sec.\n",
      "\n",
      "(0.0) Multiple path adiabatic crossing in a 3 site ring\n",
      "(0.0927) Lagrangian study of the final warming in the southern stratosphere   during 2002: Part II. 3D structure\n"
     ]
    }
   ],
   "source": [
    "# connect to the postgresql database\n",
    "pq = LibPQ.Connection(\"dbname=\" * dbname * \" host=localhost user=\" * pguser * \" password='\" * pgpass * \"'\")\n",
    "\n",
    "N_test = 8\n",
    "subset = dataframe[shuffle(1:nrow(dataframe))[1:N_test], :]\n",
    "\n",
    "test.(subset[!, :title], subset[!, :abstract], search = search, N = 2, pq = pq) ;\n"
   ]
  },
  {
   "cell_type": "markdown",
   "id": "ca53ea24-6b95-446a-b7e3-12e0e9566b3a",
   "metadata": {},
   "source": [
    "As can be noticed from the results above, the search algorithm works correctly. Now we can test search by using custom phrase, such as <i>article about artificial intelligence</i>:"
   ]
  },
  {
   "cell_type": "code",
   "execution_count": 47,
   "id": "b9ec9f8e-3453-4dbb-a2c9-c23dffeb4094",
   "metadata": {},
   "outputs": [
    {
     "name": "stdin",
     "output_type": "stream",
     "text": [
      "input the search query:  article about artificial intelligence\n",
      "number of search results to display:  32\n"
     ]
    },
    {
     "name": "stdout",
     "output_type": "stream",
     "text": [
      "\n",
      "searching 2459557 documents...\n",
      "\n",
      "\u001b[0m\u001b[4marticle about artificial intelligence\u001b[24m\n",
      "2.277 sec.\n",
      "\n",
      "(0.4372) Impact of Artificial Intelligence on Economic Theory\n",
      "(0.4393) Artificial Intelligence in Humans\n",
      "(0.442) What can the brain teach us about building artificial intelligence?\n",
      "(0.4437) Does an artificial intelligence perform market manipulation with its own   discretion? -- A genetic algorithm learns in an artificial market simulation\n",
      "(0.4438) Retracted Articles about COVID-19 Vaccines Enable Vaccine Misinformation   on Twitter\n",
      "(0.4439) Super forecasting the technological singularity risks from artificial   intelligence\n",
      "(0.4471) Physical aging in article page views\n",
      "(0.4483) Ethical Considerations in Artificial Intelligence Courses\n",
      "(0.4494) Philosophy in the Face of Artificial Intelligence\n",
      "(0.4503) Automatic Detection of Entity-Manipulated Text using Factual Knowledge\n",
      "(0.4509) Artificial Intelligence Technology analysis using Artificial   Intelligence patent through Deep Learning model and vector space model\n",
      "(0.4543) Examining correlation between trust and transparency with explainable   artificial intelligence\n",
      "(0.4544) Three IQs of AI Systems and their Testing Methods\n",
      "(0.4546) Artificial Intelligence and Economic Theories\n",
      "(0.455) Naive Artificial Intelligence\n",
      "(0.4556) Intelligence in Strategic Games\n",
      "(0.4559) Quantization of Games: Towards Quantum Artificial Intelligence\n",
      "(0.4567) Explanation in Artificial Intelligence: Insights from the Social   Sciences\n",
      "(0.4571) The limit of human intelligence\n",
      "(0.4572) SCStory: Self-supervised and Continual Online Story Discovery\n",
      "(0.4583) Can ChatGPT predict article retraction based on Twitter mentions?\n",
      "(0.4594) Evons: A Dataset for Fake and Real News Virality Analysis and Prediction\n",
      "(0.4596) Artificial and Biological Intelligence\n",
      "(0.4603) NewsDeps: Visualizing the Origin of Information in News Articles\n",
      "(0.4603) Heckerthoughts\n",
      "(0.4605) Artificial Intelligence for Interstellar Travel\n",
      "(0.4606) Intelligence of Astronomical Optical Telescope: Present Status and   Future Perspectives\n",
      "(0.4608) Stovepiping and Malicious Software: A Critical Review of AGI Containment\n",
      "(0.4612) Neuro-Symbolic Artificial Intelligence: Current Trends\n",
      "(0.4615) Detecting Incongruity Between News Headline and Body Text via a Deep   Hierarchical Encoder\n",
      "(0.4615) The Governance of Physical Artificial Intelligence\n",
      "(0.4616) Artificial Intelligence in Minimally Invasive Interventional Treatment\n"
     ]
    }
   ],
   "source": [
    "query = IJulia.readprompt(\"input the search query: \")\n",
    "n = IJulia.readprompt(\"number of search results to display: \")\n",
    "\n",
    "total = rowtable(LibPQ.execute(pq, \"SELECT count(id) FROM arxiv\"))[1][1]\n",
    "@printf \"\\nsearching %i documents...\\n\" total\n",
    "\n",
    "test(query, \"\", N = n, pq = pq)"
   ]
  },
  {
   "cell_type": "markdown",
   "id": "7f2bce04-122e-4b49-aa6b-129dd49a1918",
   "metadata": {},
   "source": [
    "<h3>import arXiv embeddings to Redis</h3>\n",
    "<p style = \"text-align:justify\">Redis is an in-memory storage, and queries to Redis can be faster than to classical SQL databases. In this section I'm going to create a vector index in Redis and run queries on it. However, keeping the whole metadata table in memory is quite time-consuming, so I will only keep the <b>i</b> column that stores numeric index of every document. The search engine would search for indexes of similar documents in Redis, and after that select metadata (title and etc.) from Postgres database.</p>"
   ]
  },
  {
   "cell_type": "code",
   "execution_count": null,
   "id": "85748fe0-e961-4e2c-8f3a-8be7c355f308",
   "metadata": {},
   "outputs": [],
   "source": [
    "# export embeddings with indexes from postgresql database and load them to dataframe\n",
    "Base.run(pipeline(`sudo -u $dbowner psql -d $dbname -t -A -F\",\" -c \"SELECT id, i, word2vec FROM arxiv\"`, \"/tmp/arxiv.csv\"))\n",
    "redset = CSV.read(\"/tmp/arxiv.csv\", DataFrame; header = [:id, :i, :word2vec], openquotechar = '[', closequotechar = ']')\n",
    "\n",
    "# decode the embeddings column in dataframe from string representation to numeric array\n",
    "redset.word2vec = map(split.(strip.(redset.word2vec, Ref(['[', ']'])), ',')) do nums\n",
    "   parse.(Float32, nums)\n",
    "end\n",
    "\n",
    "redset = NamedTuple.(eachrow(redset)) ;"
   ]
  },
  {
   "cell_type": "code",
   "execution_count": null,
   "id": "7668ea7e-bc98-43fc-bba1-621ed8cbd15b",
   "metadata": {},
   "outputs": [],
   "source": [
    "# define a generic function to import embeddings into Redis\n",
    "\n",
    "function embed2red(data, model)\n",
    "    # write the dataset to Redis-command file for importing\n",
    "    output = open(\"$model.arxiv\",\"w\")\n",
    "    fembed(record, output) = write(output, \"json.set \\\"paper:\" * record.id * \"\\\" \\$ \\\"\" * escape_string(JSON3.write(record)) * \"\\\"\\n\")\n",
    "    fembed.(redset, output)\n",
    "\n",
    "    dimensions = 300 # !!!!!!!\n",
    "    \n",
    "    # plus command to create index\n",
    "    write(output, \"FT.CREATE $model ON JSON PREFIX 1 \\\"paper:\\\" SCHEMA \\$.i as i NUMERIC \\$.$model as $model VECTOR HNSW 6 TYPE FLOAT32 DIM $dimensions DISTANCE_METRIC COSINE\")\n",
    "    close(output)\n",
    "\n",
    "    # import the data\n",
    "    Base.run(pipeline(`cat $model.arxiv`, `redis-cli`, devnull))\n",
    "\n",
    "    # for large datasets index will be created in background, so we need to wait before using it\n",
    "    reindex() = parse(Int, Jedis.execute([\"ft.info\", model])[10])\n",
    "    if reindex() < length(redset)\n",
    "        print(\"arxiv $model embeddings imported to Redis. creating index will take time, waiting... \")\n",
    "        sleep(1); while reindex() < length(redset) sleep(4) end\n",
    "        println(\"done! saving result...\")\n",
    "    end\n",
    "    \n",
    "    Jedis.execute([\"save\"])\n",
    "    \n",
    "end"
   ]
  },
  {
   "cell_type": "code",
   "execution_count": 14,
   "id": "7c7aa589-54b1-4f56-832b-c61442733c7a",
   "metadata": {},
   "outputs": [
    {
     "name": "stdout",
     "output_type": "stream",
     "text": [
      "arxiv embeddings imported to Redis. creating index will take time, waiting... done!\n"
     ]
    }
   ],
   "source": [
    "# run the import and wait for the result\n",
    "embed2red(redset, \"word2vec\")"
   ]
  },
  {
   "cell_type": "markdown",
   "id": "9be9a4f4-a30c-4a0c-bc6f-87039a9fd4a4",
   "metadata": {},
   "source": [
    "<p style = \"text-align:justify\">Now we can test how the search is performing using Redis. To do this, I will use the same functions as for Postgresql previously, but I will define a separate search function that will work on Redis. This function will access Redis vector index through Python call, because it is not clear how to implement binary vector request to Redis in Julia <i>* at least I did not manage to do it so far and will solve this problem later</i></p>"
   ]
  },
  {
   "cell_type": "code",
   "execution_count": 51,
   "id": "0ae9cc23-bf9f-433d-b8c2-9129da2e604d",
   "metadata": {},
   "outputs": [
    {
     "data": {
      "text/plain": [
       "research (generic function with 1 method)"
      ]
     },
     "execution_count": 51,
     "metadata": {},
     "output_type": "execute_result"
    }
   ],
   "source": [
    "# define a runquery function that will access Redis vector index and return N top matches\n",
    "py\"\"\"\n",
    "\n",
    "import redis\n",
    "import numpy\n",
    "from redis.commands.search.query import Query\n",
    "\n",
    "def runquery(vector, N, model):\n",
    "    query = (\n",
    "        Query(\"(*)=>[KNN 10000 @\" + model + \" $vector AS distance]\")\n",
    "        .sort_by(\"distance\")\n",
    "        .paging(0, N)\n",
    "        .return_fields(\"distance\", \"i\")\n",
    "        .dialect(2)\n",
    "    )\n",
    "    bytes = numpy.array(vector, dtype = numpy.float32).tobytes()\n",
    "    client = redis.Redis(port = 6379, decode_responses = True)\n",
    "    result = client.ft(model).search(query, {\"vector\": bytes})\n",
    "    return result.docs\n",
    "\n",
    "\"\"\"\n",
    "\n",
    "# the function to search for query on Redis also supports models different from word2vec\n",
    "function research(query; N, pq, model)\n",
    "    if model == \"word2vec\"\n",
    "        vector = getvector(\"\", query)\n",
    "    else\n",
    "        getvecf = \"vec4\" * model\n",
    "        vector = getfield(Main, Symbol(getvecf))(query)\n",
    "    end\n",
    "    results = py\"runquery\"(vector, N, model)\n",
    "    records = DataFrame([NamedTuple([:i => parse(Int, r.i), :distance => parse(Float32, r.distance)])  for r in results])\n",
    "    result = LibPQ.execute(pq, \"SELECT i, id, title FROM arxiv WHERE i IN (\" * join([p.i for p in results], \", \") * \")\")\n",
    "    results = DataFrame(columntable(result))\n",
    "    leftjoin(results, records, on = [:i])\n",
    "end"
   ]
  },
  {
   "cell_type": "code",
   "execution_count": 33,
   "id": "649bf7f5-8939-46a2-aa96-b45c0d75b9d9",
   "metadata": {},
   "outputs": [
    {
     "name": "stdout",
     "output_type": "stream",
     "text": [
      "\n",
      "\u001b[0m\u001b[4mEntropy Spectrum of a Carged Black Hole of Heterotic String Theory via  Adiabatic Invariance\u001b[24m\n",
      "0.1095 sec.\n",
      "\n",
      "(0.0) Entropy Spectrum of a Carged Black Hole of Heterotic String Theory via   Adiabatic Invariance\n",
      "(0.0473) Universality of Quantum Entropy for Extreme Black Holes\n",
      "\n",
      "\u001b[0m\u001b[4mUnique continuation for the momentum ray transform\u001b[24m\n",
      "0.0511 sec.\n",
      "\n",
      "(0.0) Unique continuation for the momentum ray transform\n",
      "(0.102) HourglassNeRF: Casting an Hourglass as a Bundle of Rays for Few-shot   Neural Rendering\n",
      "\n",
      "\u001b[0m\u001b[4mDipolar condensates confined in a toroidal trap: ground state and  vortices\u001b[24m\n",
      "0.0687 sec.\n",
      "\n",
      "(0.0) Dipolar condensates confined in a toroidal trap: ground state and   vortices\n",
      "(0.0252) Fast rotating condensates in an asymmetric harmonic trap\n",
      "\n",
      "\u001b[0m\u001b[4mThrough the Big Bang\u001b[24m\n",
      "0.0445 sec.\n",
      "\n",
      "(0.0) Through the Big Bang\n",
      "(0.0303) Entropy and the Typicality of Universes\n",
      "\n",
      "\u001b[0m\u001b[4mInsights On Streamflow Predictability Across Scales Using Horizontal  Visibility Graph Based Networks\u001b[24m\n",
      "0.0476 sec.\n",
      "\n",
      "(0.0) Insights On Streamflow Predictability Across Scales Using Horizontal   Visibility Graph Based Networks\n",
      "(0.0363) Investigating the Empirical Existence of Static User Equilibrium\n",
      "\n",
      "\u001b[0m\u001b[4mCurve cuspless reconstruction via sub-Riemannian geometry\u001b[24m\n",
      "0.0393 sec.\n",
      "\n",
      "(0.0) Curve cuspless reconstruction via sub-Riemannian geometry\n",
      "(0.0344) An It\\^o Formula for rough partial differential equations and some   applications\n",
      "\n",
      "\u001b[0m\u001b[4mGompf's cork and Heegaard Floer homology\u001b[24m\n",
      "0.0355 sec.\n",
      "\n",
      "(0.0) Gompf's cork and Heegaard Floer homology\n",
      "(0.0489) Hypergraph Removal Lemmas via Robust Sharp Threshold Theorems\n",
      "\n",
      "\u001b[0m\u001b[4mA Systematic Framework and Characterization of Influence-Based Network  Centrality\u001b[24m\n",
      "0.0464 sec.\n",
      "\n",
      "(-0.0) A Systematic Framework and Characterization of Influence-Based Network   Centrality\n",
      "(0.0323) Inherent Inconsistencies of Feature Importance\n"
     ]
    }
   ],
   "source": [
    "pq = LibPQ.Connection(\"dbname=\" * dbname * \" host=localhost user=\" * pguser * \" password='\" * pgpass * \"'\")\n",
    "\n",
    "N_test = 8\n",
    "subset = dataframe[shuffle(1:nrow(dataframe))[1:N_test], :]\n",
    "\n",
    "test.(subset[!, :title], subset[!, :abstract], search = research, N = 2, pq = pq) ;"
   ]
  },
  {
   "cell_type": "markdown",
   "id": "b8291ffd-c41f-4ff2-b6b8-0546902f2e05",
   "metadata": {},
   "source": [
    "Performing custom-phrase search:"
   ]
  },
  {
   "cell_type": "code",
   "execution_count": 35,
   "id": "40089b80-0256-4bb3-a06b-7c25e13417f8",
   "metadata": {},
   "outputs": [
    {
     "name": "stdin",
     "output_type": "stream",
     "text": [
      "input the search query:  articles about the Big Bang\n",
      "number of search results to display:  12\n"
     ]
    },
    {
     "name": "stdout",
     "output_type": "stream",
     "text": [
      "\n",
      "\u001b[0m\u001b[4marticles about the Big Bang\u001b[24m\n",
      "0.0534 sec.\n",
      "\n",
      "(0.3244) Global Fluctuation Spectra in Big Crunch/Big Bang String Vacua\n",
      "(0.3254) Theory Closing Talk\n",
      "(0.3263) Wave asymptotics at a cosmological time-singularity: classical and   quantum scalar fields\n",
      "(0.3267) Have Pulsar Timing Arrays detected the Hot Big Bang? Gravitational Waves   from Strong First Order Phase Transitions in the Early Universe\n",
      "(0.3271) Big Bang Nucleosynthesis and Particle Dark Matter\n",
      "(0.3297) Depth-graded motivic Lie algebra\n",
      "(0.331) Hinode 7: Conference Summary and Future Suggestions\n",
      "(0.332) Answer to the Comment about the Letter entitled ``Scalar fields as dark   matter in spiral galaxies''\n",
      "(0.332) Dark Matter and Gravity Waves from a Dark Big Bang\n",
      "(0.3354) Summary Talk at the 3rd KEK Topical Conference on CP Violation\n",
      "(0.3368) Lie bialgebra structures on the Schr\\\"{o}dinger-Virasoro Lie algebra\n",
      "(0.3379) Report from Sessions 1 and 3, including the Local Bubble Debate\n"
     ]
    }
   ],
   "source": [
    "query = IJulia.readprompt(\"input the search query: \")\n",
    "n = IJulia.readprompt(\"number of search results to display: \")\n",
    "test(query, \"\", search = research, N = n, pq = pq)"
   ]
  },
  {
   "cell_type": "markdown",
   "id": "d8e59d8d-451a-4954-900a-27169463f2a2",
   "metadata": {},
   "source": [
    "The Redis search works correctly, because results are the same as with Postgresql. Now we are going to measure whether using Redis is faster than Postgresql:"
   ]
  },
  {
   "cell_type": "code",
   "execution_count": 38,
   "id": "aad92d4f-8f4d-4640-821a-64f023abba2e",
   "metadata": {},
   "outputs": [
    {
     "name": "stdout",
     "output_type": "stream",
     "text": [
      "Performance of Redis:  0.045551 seconds (2.00 k allocations: 108.094 KiB)\n",
      "Performance of Postgres:  2.258991 seconds (1.36 k allocations: 97.523 KiB)\n"
     ]
    }
   ],
   "source": [
    "print(\"Performance of Redis:\")\n",
    "@time research(query, 32, pq);\n",
    "print(\"Performance of Postgres:\")\n",
    "@time search(query, 32, pq);"
   ]
  },
  {
   "cell_type": "markdown",
   "id": "6d67ff91-18ad-4e71-8f25-1d7387ce0e1e",
   "metadata": {},
   "source": [
    "The Redis index performs much better on large datasets."
   ]
  },
  {
   "cell_type": "markdown",
   "id": "fb101d63-f89b-4c50-a614-a18d17656bea",
   "metadata": {},
   "source": [
    "<h3 style = \"line-height:96px\"><img align = left width = \"256px\" style = \"min-width:33%\" src = \"https://huggingface.co/datasets/huggingface/brand-assets/resolve/main/hf-logo.svg\">HuggingFace embeddings</h3>\n",
    "<p style = \"text-align:justify\">In this section I'm going to use <a target = _blank href = \"https://huggingface.co/spaces/mteb/leaderboard\">a model from Hugging Face</a> to generate embeddings for each document instead of word2vec. The model taken will be <b>gte-large-en-v1.5</b> since it has shown best performance on information retrieval task for scinetific datasets: SCIDOCS and SciFact, and also has one of the best performance for Englis-language retrieval task overall.</p><p></p>Unfortunately, I will have to use python call here, because current Julia support for Hugging Face models is limited (there seems to be a bug that does not allow to download every model) and Sentence Transformers are also lacking. To save time, I will use PyCall right now and work on a pure Julia implementation afterwards.</p>"
   ]
  },
  {
   "cell_type": "code",
   "execution_count": 8,
   "id": "c229270c-36f7-4f9c-a8b1-84e589e8b3d7",
   "metadata": {},
   "outputs": [
    {
     "data": {
      "text/plain": [
       "PyObject SentenceTransformer(\n",
       "  (0): Transformer({'max_seq_length': 8192, 'do_lower_case': False}) with Transformer model: NewModel \n",
       "  (1): Pooling({'word_embedding_dimension': 1024, 'pooling_mode_cls_token': True, 'pooling_mode_mean_tokens': False, 'pooling_mode_max_tokens': False, 'pooling_mode_mean_sqrt_len_tokens': False, 'pooling_mode_weightedmean_tokens': False, 'pooling_mode_lasttoken': False, 'include_prompt': True})\n",
       ")"
      ]
     },
     "execution_count": 8,
     "metadata": {},
     "output_type": "execute_result"
    }
   ],
   "source": [
    "py\"\"\"\n",
    "from sentence_transformers import SentenceTransformer\n",
    "\n",
    "def model(path):\n",
    "    return SentenceTransformer(path, trust_remote_code = True, device = \"cuda\")\n",
    "\"\"\"\n",
    "\n",
    "gtelarge = py\"model\"(\"Alibaba-NLP/gte-large-en-v1.5\")"
   ]
  },
  {
   "cell_type": "code",
   "execution_count": null,
   "id": "4fb35b8a-5ebf-49f5-8307-ca4e6e3c8600",
   "metadata": {},
   "outputs": [],
   "source": [
    "using CUDA\n",
    "\n",
    "device_reset!()"
   ]
  },
  {
   "cell_type": "code",
   "execution_count": 6,
   "id": "63956e2e-5770-464d-ab7e-5600380846a7",
   "metadata": {},
   "outputs": [],
   "source": [
    "chunks = NamedTuple.(eachrow(dataframe[!, [:i, :id, :title, :abstract]])) ;"
   ]
  },
  {
   "cell_type": "code",
   "execution_count": null,
   "id": "c2d2e380-b8a2-4dd9-9b46-cf28100a5e67",
   "metadata": {
    "scrolled": true
   },
   "outputs": [],
   "source": [
    "open(\"gtelarge.arxiv\",\"w\") do output\n",
    "\n",
    "    datale = length(chunks)\n",
    "#    sizech = 8192 * 32 * 32 * 8\n",
    "#    counch = Int(ceil(datale/sizech))\n",
    "\n",
    "#    for i in range(1, step = sizech, length = counch)\n",
    "#        i = Int(i)\n",
    "#        j = i + sizech - 1\n",
    "#        if j > datale\n",
    "#            j = datale\n",
    "#        end\n",
    "\n",
    "        chunk = [(p.title * \"\\n\" * p.abstract) for p in chunks] # for p in chunks[i:j]]\n",
    "        chunk = gtelarge.encode(chunk, batch_size = 128)\n",
    "\n",
    "        for ii in 1:datale # i:j\n",
    "            record = (i = chunks[ii].i, id = chunks[ii].id, gtelarge = chunk[ii, :]) # -i+1\n",
    "            write(output, \"json.set \\\"paper:\" * record.id * \"\\\" \\$ \\\"\" * escape_string(JSON3.write(record)) * \"\\\"\\n\")\n",
    "        end\n",
    "#\n",
    "    end\n",
    "\n",
    "    write(output, \"FT.CREATE gtelarge ON JSON PREFIX 1 \\\"paper:\\\" SCHEMA \\$.i as i NUMERIC \\$.gtelarge as gtelarge VECTOR HNSW 6 TYPE FLOAT32 DIM 1024 DISTANCE_METRIC COSINE\")\n",
    "\n",
    "end\n",
    "\n",
    "#close(output)"
   ]
  },
  {
   "cell_type": "markdown",
   "id": "415f7052-af32-4df1-a5fa-5785a85ff40e",
   "metadata": {},
   "source": [
    "Now I will save the embeddings and import them into Redis only, to avoid unneccessary memory consumption by Postgres index, since onlty Redis indexing will be used for performance:"
   ]
  },
  {
   "cell_type": "code",
   "execution_count": null,
   "id": "4b2488df-2fd8-49cb-b177-4bb844d67e56",
   "metadata": {},
   "outputs": [],
   "source": [
    "# check dimensions\n",
    "# save and import to Redis no Postgres\n",
    "\n",
    "gteset = NamedTuple.(eachrow(dataframe[!, :i, :id, :gtelarge])) ;\n",
    "\n",
    "embed2red(gteset, gtelarge)"
   ]
  },
  {
   "cell_type": "code",
   "execution_count": null,
   "id": "1b28e9fd-1b4c-49fc-bdfe-f15e622b25e1",
   "metadata": {},
   "outputs": [],
   "source": [
    "vec4gtelarge(query) = gtelarge.encode(query)\n",
    "    \n",
    "N_test = 2\n",
    "subset = dataframe[shuffle(1:nrow(dataframe))[1:N_test], :]\n",
    "\n",
    "test.(subset[!, :title], subset[!, :abstract], search = research, N = 4, pq = pq, model = \"gtelarge\") ;"
   ]
  }
 ],
 "metadata": {
  "kernelspec": {
   "display_name": "Julia 1.10.2",
   "language": "julia",
   "name": "julia-1.10"
  },
  "language_info": {
   "file_extension": ".jl",
   "mimetype": "application/julia",
   "name": "julia",
   "version": "1.10.2"
  }
 },
 "nbformat": 4,
 "nbformat_minor": 5
}
